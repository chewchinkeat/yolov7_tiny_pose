{
 "cells": [
  {
   "cell_type": "code",
   "execution_count": 8,
   "metadata": {},
   "outputs": [],
   "source": [
    "# import libraries\n",
    "import cv2\n",
    "import numpy as np\n",
    "import matplotlib.pyplot as plt"
   ]
  },
  {
   "cell_type": "code",
   "execution_count": 5,
   "metadata": {},
   "outputs": [],
   "source": [
    "# Load the image and corresponding annotation file\n",
    "img_path = \"./images/val/000000410510.jpg\"\n",
    "ann_path = \"./labels/val/000000410510.txt\"\n",
    "\n",
    "img = cv2.imread(img_path)\n",
    "with open(ann_path, \"r\") as f:\n",
    "    lines = f.readlines()"
   ]
  },
  {
   "cell_type": "code",
   "execution_count": 20,
   "metadata": {},
   "outputs": [],
   "source": [
    "# Parse the annotation file\n",
    "boxes = []\n",
    "keypoints = []\n",
    "\n",
    "# Should only have one line, but why not\n",
    "for line in lines:\n",
    "    parts = line.strip().split(\" \")\n",
    "\n",
    "    # Bounding box\n",
    "    x_center = float(parts[1])\n",
    "    y_center = float(parts[2])\n",
    "    width = float(parts[3])\n",
    "    height = float(parts[4])\n",
    "    x_min = int((x_center - width/2) * img.shape[1])\n",
    "    y_min = int((y_center - height/2) * img.shape[0])\n",
    "    x_max = int((x_center + width/2) * img.shape[1])\n",
    "    y_max = int((y_center + height/2) * img.shape[0])\n",
    "    boxes.append((x_min, y_min, x_max, y_max))\n",
    "\n",
    "    # COCO keypoints\n",
    "    num_keypoints = (len(parts)-5) // 3\n",
    "    keypoints.append(np.array([float(p) for p in parts[5:]]).reshape(num_keypoints, 3))"
   ]
  },
  {
   "cell_type": "code",
   "execution_count": 21,
   "metadata": {},
   "source": [
    "# Draw the boxes and keypoints on the image\n",
    "fig, ax = plt.subplots()\n",
    "ax.imshow(img)\n",
    "for box in boxes:\n",
    "    rect = plt.Rectangle((box[0], box[1]), box[2] - box[0], box[3] - box[1], linewidth=1, edgecolor='g', facecolor='none')\n",
    "    ax.add_patch(rect)\n",
    "for kps in keypoints:\n",
    "    for i, kp in enumerate(kps):\n",
    "        x = int(kp[0] * img.shape[1])\n",
    "        y = int(kp[1] * img.shape[0])\n",
    "        ax.plot(x, y, 'ro', markersize=2)\n",
    "plt.show()"
   ]
  }
 ],
 "metadata": {
  "kernelspec": {
   "display_name": "Python 3",
   "language": "python",
   "name": "python3"
  },
  "language_info": {
   "codemirror_mode": {
    "name": "ipython",
    "version": 3
   },
   "file_extension": ".py",
   "mimetype": "text/x-python",
   "name": "python",
   "nbconvert_exporter": "python",
   "pygments_lexer": "ipython3",
   "version": "3.6.10"
  }
 },
 "nbformat": 4,
 "nbformat_minor": 4
}
